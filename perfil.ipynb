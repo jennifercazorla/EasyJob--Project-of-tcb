{
  "metadata": {
    "language_info": {
      "name": ""
    },
    "kernelspec": {
      "name": "python",
      "display_name": "Python (Pyodide)",
      "language": "python"
    }
  },
  "nbformat_minor": 4,
  "nbformat": 4,
  "cells": [
    {
      "cell_type": "code",
      "source": "\nclass Perfil(object):\n    def __init__(self,nom= None,lug = None,mv= None,em = None,us= None,cntr = None): \n        # La clase Perfil tiene los siguientes atributos encapsulados: \n        self.__nombre = nom\n        self.__lugar = lug\n        self.__movil = mv\n        self.__email = em\n        self.__usuario = us\n        self.__contraseña = cntr\n    # Definimos métodos get/set para acceder a los atributos encapsulados: \n    def get_nombre(self):\n        return self.__nombre\n    def get_lugar(self):\n        return self.__lugar\n    def get_movil(self):\n        return self.__movil\n    def get_email(self):\n        return self.__email\n    def get_usuario(self):\n        return self.__usuario\n    def get_contraseña(self):\n        return self.__contraseña\n    # Para modificar el valor de los atributos encapsulados usamos el set: \n    def set_nombre(self,x):\n        self.__nombre = x\n    def set_lugar(self,x):\n        self.__lugar = x\n    def set_movil(self,x):\n        self.__movil = x\n    def set_email(self,x):\n        self.__email = x\n    def set_usuario(self,x):\n        self.__usuario = x\n    def set_contraseña(self,x):\n        self.__contraseña = x\n        \n    nombre = property(get_nombre,set_nombre)\n    lugar = property(get_lugar,set_lugar)\n    movil = property(get_movil,set_movil)\n    email = property(get_email,set_email)\n    usuario = property(get_usuario,set_usuario)\n    contraseña = property(get_contraseña,set_contraseña)\n\n        \n    \n        \n        ",
      "metadata": {},
      "execution_count": null,
      "outputs": []
    }
  ]
}