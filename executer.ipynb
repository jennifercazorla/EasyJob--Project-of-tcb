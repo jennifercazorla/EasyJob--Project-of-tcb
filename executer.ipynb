{
  "metadata": {
    "language_info": {
      "name": ""
    },
    "kernelspec": {
      "name": "python",
      "display_name": "Python (Pyodide)",
      "language": "python"
    }
  },
  "nbformat_minor": 4,
  "nbformat": 4,
  "cells": [
    {
      "cell_type": "code",
      "source": "\n\"\"\"\n\nEasyJob: pantalla de ejecución\n\n\n\"\"\"\n\nfrom interface import principal\n\n\n\ndef main():\n    mi_app = principal()\n    return 0\n\nif __name__ == '__main__':\n    main()",
      "metadata": {},
      "execution_count": null,
      "outputs": []
    }
  ]
}