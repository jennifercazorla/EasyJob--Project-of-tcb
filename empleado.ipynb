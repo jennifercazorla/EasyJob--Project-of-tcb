{
  "metadata": {
    "language_info": {
      "name": ""
    },
    "kernelspec": {
      "name": "python",
      "display_name": "Python (Pyodide)",
      "language": "python"
    }
  },
  "nbformat_minor": 4,
  "nbformat": 4,
  "cells": [
    {
      "cell_type": "code",
      "source": "\"\"\"\nEmpleado \n\"\"\"\n\nfrom Perfil import Perfil\n\nclass empleado(Perfil):\n   \n   def __init__(self,nombre=None,apellidos=None,lugar=None,edad=None,nivel=None,\n                estudio=None, mv=None,email=None,tiempo=None,usuario=None,contrasena=None):\n       \n       super().__init__(nombre,lugar,mv,email,usuario,contrasena)\n       \n       self.__apellidos=apellidos\n       self.__edad=edad\n       self.__nivel=nivel\n       self.__estudio=estudio\n       self.__tiempo=tiempo\n       \n   \n   def get_apellidos(self):\n       return self.__apellidos\n   def get_edad(self):\n       return self.__edad\n   def get_nivel(self):\n       return self.__nivel        \n   def get_estudio(self):\n       return self.__estudio\n   def get_tiempo(self):\n       return self.__tiempo        \n    \n   def set_apellidos(self,p):\n       self.__apellidos = p \n   def set_edad(self,p):\n       self.__edad= p \n   def set_nivel(self,p):\n       self.__nivel = p  \n   def set_estudio(self,p):\n       self.__estudio = p \n   def set_tiempo(self,p):\n       self.__tiempo = p  \n       \n       \n    # El properti es como lo vamos a llamar\n\n   apellidos=property(get_apellidos,set_apellidos)\n   edad=property(get_edad,set_edad)\n   nivel=property(get_nivel,set_nivel)\n   estudio=property(get_estudio,set_estudio)\n   tiempo=property(get_tiempo,set_tiempo)\n   \n   def __str__(self):\n        return \"Nombre: %s\\nApellido: %s\\nLugar: %s\\nedad: %s\\nNivel: %s\\nEstudio: %s\\nMovil: %s\\nMail: %s\\nTiempo: %s\\nUsuario: %s\\nContrasena:  %s\"%(self.nombre,self.apellidos,self.lugar,self.edad,self.nivel,self.estudio, self.movil,self.email, self.tiempo,self.usuario,self.contraseña)\n   pass\n     \n",
      "metadata": {},
      "execution_count": null,
      "outputs": []
    }
  ]
}