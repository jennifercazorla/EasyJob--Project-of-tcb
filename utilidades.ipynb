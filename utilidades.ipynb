{
  "metadata": {
    "language_info": {
      "name": ""
    },
    "kernelspec": {
      "name": "",
      "display_name": ""
    }
  },
  "nbformat_minor": 4,
  "nbformat": 4,
  "cells": [
    {
      "cell_type": "code",
      "source": "\"\"\"\nEsta clase va a ser para modificar y ver lo que ya estÃ¡ creado\n\"\"\"\nimport pandas as pd\nfrom empleado import empleado\nfrom empresa import empresa\nfrom oferta import oferta\n\n\nclass utilidades(object):\n \n    \"\"\"\"\n    lectura del csv para ver el perfil de una empresa\n\n    \"\"\"\n    \n\n    def ver_empresa(self, archivo1):\n       temporal={}\n       df_ver_dic_empresa = pd.read_csv(archivo1, sep=';',encoding ='latin-1')\n       for linea in df_ver_dic_empresa.itertuples():\n           empr=empresa(linea.nombre,linea.lugar,linea.cp,linea.movil,linea.email, linea.usuario,linea.contrasena)\n           \n           if linea.usuario not in temporal: \n               temporal[linea.usuario]=empr\n           \n       return temporal\n \n    \"\"\"\"\n    lectura del csv para ver el perfil de un empleado\n\n    \"\"\"\n        \n    def ver_empleado(self,archivo1):\n        temporal={}\n        df_ver_dic_empleado = pd.read_csv(archivo1, sep=';',encoding ='latin-1')\n        for linea in df_ver_dic_empleado.itertuples():\n            empl=empleado(linea.nombre, linea.apellidos, linea.lugar, linea.edad, linea.nivel, linea.estudio, linea.mv, linea.email,linea.tiempo, linea.usuario, linea.contrasena)\n            if linea.usuario not in temporal: #para dupicados\n                temporal[linea.usuario]=empl\n            \n        return temporal     \n    \n    \"\"\"\"\n    lectura del csv para ver una oferta\n\n    \"\"\"\n    \n    def ver_oferta(self,archivo1):\n        temporal={}\n        df_ver_dic_empresa = pd.read_csv(archivo1, sep=';',encoding ='latin-1')\n        for linea in df_ver_dic_empresa.itertuples():\n            oft=oferta(linea.nombre,linea.lugar,linea.tarea,linea.salario,linea.jornada, linea.candidatos, linea.requisitos)\n            if linea.nombre not in temporal: \n                temporal[linea.nombre]=oft\n        return temporal   \n    \n    \"\"\"\"\n    crear csv \n\n    \"\"\"     \n               \n    def crear_empleado_csv(self,datos,nombre_archivo):\n        df = pd.DataFrame.from_dict(datos,orient='index',columns=[\"nombre\",\"apellidos\",\"ciudad\", \"nacimiento\",\\\n                                                                  \"estudio\", \"movil\", \"email\", \"jornada\", \"usuario\", \"contraseña\"])\n        df.to_csv(nombre_archivo,sep=';',index_label=\"DNI\",encoding ='latin-1')\n        \n    def crear_empresa_csv(self,datos,nombre_archivo):\n        df = pd.DataFrame.from_dict(datos,orient='index',columns=[\"nombre\",\"lugar\",\"cp\",\\\n                                                                  \"movil\", \"email\", \"usuario\", \"contraseña\"])\n        df.to_csv(nombre_archivo,sep=';',index_label=\"DNI\",encoding ='latin-1')\n  \n",
      "metadata": {
        "trusted": true
      },
      "execution_count": null,
      "outputs": [
        {
          "ename": "<class 'ModuleNotFoundError'>",
          "evalue": "No module named 'empleado'",
          "traceback": [
            "\u001b[0;31m---------------------------------------------------------------------------\u001b[0m",
            "\u001b[0;31mModuleNotFoundError\u001b[0m                       Traceback (most recent call last)",
            "Cell \u001b[0;32mIn[1], line 5\u001b[0m\n\u001b[1;32m      1\u001b[0m \u001b[38;5;124;03m\"\"\"\u001b[39;00m\n\u001b[1;32m      2\u001b[0m \u001b[38;5;124;03mClase general que nos va a relacionar la info de otras clases, los diccionarios\u001b[39;00m\n\u001b[1;32m      3\u001b[0m \u001b[38;5;124;03m\"\"\"\u001b[39;00m\n\u001b[0;32m----> 5\u001b[0m \u001b[38;5;28;01mfrom\u001b[39;00m \u001b[38;5;21;01mempleado\u001b[39;00m \u001b[38;5;28;01mimport\u001b[39;00m empleado\n\u001b[1;32m      6\u001b[0m \u001b[38;5;28;01mfrom\u001b[39;00m \u001b[38;5;21;01mempresa\u001b[39;00m \u001b[38;5;28;01mimport\u001b[39;00m empresa\n\u001b[1;32m      7\u001b[0m \u001b[38;5;28;01mfrom\u001b[39;00m \u001b[38;5;21;01mutilidades\u001b[39;00m \u001b[38;5;28;01mimport\u001b[39;00m utilidades\n",
            "\u001b[0;31mModuleNotFoundError\u001b[0m: No module named 'empleado'"
          ],
          "output_type": "error"
        }
      ]
    }
  ]
}