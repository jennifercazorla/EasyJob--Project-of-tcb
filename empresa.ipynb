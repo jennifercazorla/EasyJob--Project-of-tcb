{
  "metadata": {
    "language_info": {
      "name": ""
    },
    "kernelspec": {
      "name": "python",
      "display_name": "Python (Pyodide)",
      "language": "python"
    }
  },
  "nbformat_minor": 4,
  "nbformat": 4,
  "cells": [
    {
      "cell_type": "code",
      "source": "\"\"\"\nEmpresa\n\"\"\"\nfrom Perfil import Perfil\nfrom oferta import oferta\n\nclass empresa(Perfil):\n\n    def __init__(self,nom= None,lug = None,cp = None, mv= None,em = None,\n                 us= None,cntr = None):\n        super().__init__(nom,lug,mv,em,us,cntr)\n\n        self.__codigop=cp\n\n       # self.__sector=sctr\n        self.__ofertas= []\n\n\n       \n    \n    def get_codigop(self):\n        return self.__codigop \n    #def get_sector(self):\n    #    return self.__sector    \n    def get_ofertas(self):\n        return self.__ofertas\n   \n    def set_codigop(self,x):\n        self.__codigop = x\n    #def set_sector(self,x):\n   #     self.__sector = x   \n    def set_ofertas(self,x):\n        self.__ofertas.append(x)\n  \n\n    \n    codigop=property(get_codigop,set_codigop)\n   # sector=property(get_sector,set_sector)\n    ofertas=property(get_ofertas,set_ofertas)\n    \n    def agregar_oferta(self, oferta):\n        self.ofertas.append(oferta)\n        print(\"Añadido\")\n        return self.ofertas\n        #return self.ofertas\n            \n    def ver_ofertas(self):\n        print(\"aqui estan\")\n        lista_ofertas = []\n        for oferta in self.ofertas: \n        #print(\"Título:\", oferta.nombre)\n            lista_ofertas.append((oferta.nombre, oferta.lugar, oferta.tarea, oferta.salario, oferta.jornada, oferta.vacantes,oferta.requisitos))\n        return lista_ofertas\n        #for oferta in self.ofertas: \n            #print(\"Título:\", oferta.nombre)\n         #   return oferta.nombre, oferta.lugar, oferta.tarea, oferta.salario, oferta.jornada, oferta.vacantes,oferta.requisitos\n\n            #Lugar = oferta.lugar\n            #return Nombre\n\n    def __str__(self):\n         return \"Nombre: %s\\nLugar: %s\\ncp: %s\\nMovil: %s\\nEmail:\\\n             %s\\nUsuario: %s\\nContraseña:  %s\"%(self.nombre,self.lugar,self.codigop,self.movil,\\\n                 self.email,self.usuario,self.contraseña)\n    pass\n",
      "metadata": {},
      "execution_count": null,
      "outputs": []
    }
  ]
}