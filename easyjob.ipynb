{
  "metadata": {
    "language_info": {
      "name": ""
    },
    "kernelspec": {
      "name": "python",
      "display_name": "Python (Pyodide)",
      "language": "python"
    }
  },
  "nbformat_minor": 4,
  "nbformat": 4,
  "cells": [
    {
      "cell_type": "code",
      "source": "\"\"\"\nClase general que nos va a relacionar la info de otras clases, los diccionarios\n\"\"\"\n\nfrom empleado import empleado\nfrom empresa import empresa\nfrom utilidades import utilidades\nfrom oferta import oferta\n\nclass easyjob(object):\n    def __init__(self):\n       \n        ut=utilidades()\n        \n        self.empresa= ut.ver_empresa(\"empresa3.csv\")\n        self.empleado= ut.ver_empleado(\"empleado2.csv\")\n\n        \n    def alta_empleado(self,nombre=None,apellidos=None,lugar=None,edad=None,nivel = None, estudio=None, mv=None,email=None,tiempo = None, usuario=None,contraseña=None):\n        if usuario not in self.empleado:\n            self.empleado[usuario]=empleado(nombre, apellidos, lugar, edad,nivel, estudio, mv, email, tiempo,usuario, contraseña)\n            print(self.empleado[usuario])\n            \n    def alta_empresa(self,nombre=None,lugar=None,codigop=None,movil=None,email=None, usuario=None,contraseña=None):\n        if usuario not in self.empresa:\n            self.empresa[usuario]=empresa(nombre, lugar, codigop, movil, email, usuario, contraseña)\n            print(self.empresa[usuario])\n\n    def comprueba_usuario_empleado(self,usuario, contraseña):\n        if usuario in self.empleado and self.empleado[usuario].contraseña == contraseña:\n            return usuario,contraseña\n        else:\n            return False\n        \n    def muestra_empleado(self,usuario):\n        if usuario in self.empleado:\n            return self.empleado[usuario]\n        else:\n            return False\n\n \n    def comprueba_usuario_empresa(self,usuario, contraseña):\n        if usuario in self.empresa and self.empresa[usuario].contraseña == contraseña:\n            return usuario,contraseña\n            #if self.empresa.usuario[contraseña] == contraseña: \n                #return usuario \n        else:\n            return False\n        \n    def muestra_empresa(self,usuario):\n        if usuario in self.empresa:\n            return self.empresa[usuario]\n        else:\n            return False\n\n    \n\n",
      "metadata": {},
      "execution_count": null,
      "outputs": []
    }
  ]
}