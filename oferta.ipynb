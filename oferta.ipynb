{
  "metadata": {
    "language_info": {
      "name": ""
    },
    "kernelspec": {
      "name": "",
      "display_name": ""
    }
  },
  "nbformat_minor": 4,
  "nbformat": 4,
  "cells": [
    {
      "cell_type": "code",
      "source": "\"\"\"\nOferta\n\"\"\"\n\nimport tkinter as tk\n\nclass oferta(object):\n    def __init__(self,nom = None, lug = None, tar = None,sal= None,jorn = None,vac= None,req = None):\n\n        self.__nombre=nom\n\n        self.__lugar=lug\n        self.__tarea=tar\n\n        self.__salario=sal\n        self.__jornada=jorn\n        self.__vacantes=vac\n        self.__requisitos=req\n\n        #self.__lista_solicitudes=lst_sol\n\n    def get_nombre(self):\n        return self.__nombre \n    def get_lugar(self):\n        return self.__lugar   \n    def get_tarea(self):\n        return self.__tarea\n    def get_salario(self):\n        return self.__salario   \n    def get_jornada(self):\n        return self.__jornada\n    def get_vacantes(self):\n        return self.__vacantes\n    def get_requisitos(self):\n        return self.__requisitos\n    \n   \n    def set_nombre(self,x):\n        self.__nombre = x\n    def set_lugar(self,x):\n        self.__lugar = x   \n    def set_tarea(self,x):\n        self.__tarea = x\n    def set_salario(self,x):\n        self.__salario = x\n    def set_jornada(self,x):\n        self.__jornada = x\n    def set_vacantes(self,x):\n        self.__vacantes = x\n    def set_requisitos(self,x):\n        self.__requisitos = x\n   \n         \n    \n    nombre=property(get_nombre,set_nombre)\n    lugar=property(get_lugar,set_lugar)\n    tarea=property(get_tarea,set_tarea)\n    salario=property(get_salario,set_salario)\n    jornada=property(get_jornada,set_jornada)\n    vacantes=property(get_vacantes,set_vacantes)   \n    requisitos=property(get_requisitos,set_requisitos)\n    ",
      "metadata": {},
      "execution_count": null,
      "outputs": []
    }
  ]
}